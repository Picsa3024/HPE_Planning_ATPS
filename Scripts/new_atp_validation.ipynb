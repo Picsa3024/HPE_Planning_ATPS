{
 "cells": [
  {
   "cell_type": "code",
   "execution_count": 3,
   "id": "340124b5",
   "metadata": {},
   "outputs": [],
   "source": [
    "from My_Book import*\n",
    "import pandas as pd"
   ]
  },
  {
   "cell_type": "code",
   "execution_count": 5,
   "id": "50f0765d",
   "metadata": {},
   "outputs": [
    {
     "name": "stdout",
     "output_type": "stream",
     "text": [
      "Index(['PC', 'SHIP TYPE', 'COLLECTIVE', 'HP SO', 'PO', 'WORK ORDER', 'SO',\n",
      "       'WO TYPE', 'SKU', 'SKU DESCRIPTION', 'MODEL', 'PLATFORM', 'COMPLEXITY',\n",
      "       'QTY', 'SO DATE', 'PP REMARKS', 'DRIPS/PACKAGING', 'HUB_ANALYSIS',\n",
      "       'STATUS', 'FIRST SCHEDULED DATE', 'ACTUAL SCHEDULED DATE',\n",
      "       'SCHEDULED DATE BY EXP LT', 'FIRST ACK', 'RDD', 'CTB',\n",
      "       'PE/FE APPROVAL?', 'COMMENTS', 'ORDER TYPE', 'HPE RESTRICTIONS',\n",
      "       'MATERIAL P', 'MATERIAL A', 'MATERIAL D', 'REQUIRED Q', 'SHORTAGE Q',\n",
      "       'PURCHASE O', 'PO QUANTIT', 'DELIVERY D', 'LEAD TIME', 'EXPERIENCE LT',\n",
      "       'SALES PERS', 'WO STATUS', 'WIP STATUS', 'CYGNUS_SAP_HOLDS',\n",
      "       'DATA SOURCE', 'NON CTR', 'ANALYSIS_LEVEL', 'SHIP TO', 'HDD TYPE',\n",
      "       'SINGLE_GATED_FLAG', 'DRIP_PARTS_CRITICAL', 'DRIP_PARTS',\n",
      "       'PACKING_CONSTRAIN', 'ORDER_COMPLEXITY', 'OWNER', 'Delta RDD',\n",
      "       'RDD_ALIGMENT', 'HUB_FLAG', 'ORDERS W/BOM', 'BACKLOG SEQUENCE',\n",
      "       'HPSD_BUFFER', 'CTB_FLAG', 'INTAKE', 'STANDALONE', 'SCHEDULE Q',\n",
      "       'NEW_ATP_STATUS'],\n",
      "      dtype='object')\n"
     ]
    }
   ],
   "source": [
    " # EXCEL File \"MPS 4AM\" We only need columns 'PC', 'SHIP TYPE',\n",
    "df_mps4AM = pd.read_excel(share_path() + '\\\\Planning\\\\MPS_Base_Record\\\\MPS_'+str(format_date(3))+'.xlsx')\n",
    "\n",
    "print(df_mps4AM.columns)\n",
    "df_mps4AM.to_excel(path()+'\\\\Files\\\\Columns_MPS'+format_date(3)+'.xlsx',index=False)"
   ]
  }
 ],
 "metadata": {
  "kernelspec": {
   "display_name": "Python 3",
   "language": "python",
   "name": "python3"
  },
  "language_info": {
   "codemirror_mode": {
    "name": "ipython",
    "version": 3
   },
   "file_extension": ".py",
   "mimetype": "text/x-python",
   "name": "python",
   "nbconvert_exporter": "python",
   "pygments_lexer": "ipython3",
   "version": "3.13.1"
  }
 },
 "nbformat": 4,
 "nbformat_minor": 5
}
